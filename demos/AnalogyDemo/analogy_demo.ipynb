{
 "cells": [
  {
   "cell_type": "markdown",
   "id": "e3810c46",
   "metadata": {},
   "source": [
    "# Analogy-Based Estimation Demo\n",
    "\n",
    "**Disclaimer:** This notebook uses *fictional, AI-generated data* purely for demonstration purposes. It is not based on real projects and should only be used for educational exercises within this course."
   ]
  },
  {
   "cell_type": "markdown",
   "id": "f919adb2",
   "metadata": {},
   "source": [
    "## Step 1: Sample Dataset\n",
    "\n",
    "We will create a toy dataset of past projects with basic attributes:\n",
    "- **Size (story points)**\n",
    "- **Complexity (1–5 scale)**\n",
    "- **Team Experience (years)**\n",
    "- **Duration (weeks)** (actual outcome)\n",
    "\n",
    "We'll then try to estimate a new project's duration by comparing it with similar past projects."
   ]
  },
  {
   "cell_type": "code",
   "execution_count": null,
   "id": "87d7d170",
   "metadata": {},
   "outputs": [],
   "source": [
    "import pandas as pd\n",
    "import numpy as np\n",
    "\n",
    "# Fictional dataset\n",
    "data = [\n",
    "    {\"Project\": \"Alpha\",   \"Size\": 50,  \"Complexity\": 3, \"Experience\": 5, \"Duration\": 12},\n",
    "    {\"Project\": \"Beta\",    \"Size\": 80,  \"Complexity\": 4, \"Experience\": 4, \"Duration\": 18},\n",
    "    {\"Project\": \"Gamma\",   \"Size\": 40,  \"Complexity\": 2, \"Experience\": 6, \"Duration\": 10},\n",
    "    {\"Project\": \"Delta\",   \"Size\": 100, \"Complexity\": 5, \"Experience\": 3, \"Duration\": 22},\n",
    "    {\"Project\": \"Epsilon\", \"Size\": 70,  \"Complexity\": 3, \"Experience\": 5, \"Duration\": 15}\n",
    "]\n",
    "\n",
    "df = pd.DataFrame(data)\n",
    "df"
   ]
  },
  {
   "cell_type": "markdown",
   "id": "65def309",
   "metadata": {},
   "source": [
    "## Step 2: Define Similarity Function\n",
    "\n",
    "We'll use a simple distance metric (Euclidean distance) based on **Size**, **Complexity**, and **Experience**. \n",
    "\n",
    "The closest past project(s) will guide our estimate."
   ]
  },
  {
   "cell_type": "code",
   "execution_count": null,
   "id": "94229411",
   "metadata": {},
   "outputs": [],
   "source": [
    "# Install required packages\n",
    "!pip install scikit-learn"
   ]
  },
  {
   "cell_type": "code",
   "execution_count": 11,
   "id": "a9c845d6",
   "metadata": {},
   "outputs": [],
   "source": [
    "from sklearn.preprocessing import StandardScaler\n",
    "from sklearn.metrics.pairwise import euclidean_distances\n",
    "import numpy as np\n",
    "\n",
    "# Features used for similarity\n",
    "features = [\"Size\", \"Complexity\", \"Experience\"]\n",
    "scaler = StandardScaler()\n",
    "# Use .values to get numpy array instead of DataFrame with feature names\n",
    "X = scaler.fit_transform(df[features].values)\n",
    "\n",
    "def estimate_new_project(new_project, k=1):\n",
    "    # Convert to numpy array and reshape\n",
    "    new_array = np.array(new_project).reshape(1, -1)\n",
    "    new_scaled = scaler.transform(new_array)\n",
    "    distances = euclidean_distances(new_scaled, X)[0]\n",
    "    df_copy = df.copy()  # Work with a copy to avoid modifying original DataFrame\n",
    "    df_copy[\"Distance\"] = distances\n",
    "    nearest = df_copy.nsmallest(k, \"Distance\")\n",
    "    estimate = nearest[\"Duration\"].mean()\n",
    "    return estimate, nearest[[\"Project\", \"Duration\", \"Distance\"]]"
   ]
  },
  {
   "cell_type": "markdown",
   "id": "321dc67f",
   "metadata": {},
   "source": [
    "## Step 3: Example Estimation\n",
    "\n",
    "Suppose we have a **new project**:\n",
    "- Size: 60 story points\n",
    "- Complexity: 3\n",
    "- Team Experience: 4 years\n",
    "\n",
    "We want to estimate its duration."
   ]
  },
  {
   "cell_type": "code",
   "execution_count": null,
   "id": "70ddfe4d",
   "metadata": {},
   "outputs": [],
   "source": [
    "new_project = [60, 3, 4]\n",
    "estimate, nearest = estimate_new_project(new_project, k=2)\n",
    "\n",
    "print(\"Estimated Duration (weeks):\", round(estimate, 1))\n",
    "nearest"
   ]
  },
  {
   "cell_type": "markdown",
   "id": "4928cab6",
   "metadata": {},
   "source": [
    "## Step 4: Reflection\n",
    "\n",
    "- The estimate comes from the *closest 2 past projects* in terms of attributes.\n",
    "- This mirrors real-world practice: find projects that are similar in scope, team, and complexity.\n",
    "- **Limitations:**\n",
    "  - Requires a good historical dataset.\n",
    "  - Sensitive to the choice of analogy.\n",
    "  - Works best when projects are truly comparable."
   ]
  },
  {
   "cell_type": "markdown",
   "id": "789da994",
   "metadata": {},
   "source": [
    "## Step 5: Try Your Own Estimations\n",
    "\n",
    "Now it's your turn! Try estimating different project scenarios and see how the results change.\n",
    "\n",
    "**Exercise Ideas:**\n",
    "1. **Different project sizes**: Try a very small project (20 story points) vs a very large one (150 story points)\n",
    "2. **Vary complexity**: How does changing complexity from 1 to 5 affect the estimate?\n",
    "3. **Team experience impact**: Compare estimates for inexperienced (1-2 years) vs experienced (7+ years) teams\n",
    "4. **Change k value**: Try using k=1 (closest match) vs k=3 (average of 3 closest) vs k=5 (all projects)\n",
    "\n",
    "**Example scenarios to try:**\n",
    "- Small, simple project with experienced team: [25, 1, 7]\n",
    "- Large, complex project with new team: [120, 5, 2]\n",
    "- Medium project with average specs: [75, 3, 4]"
   ]
  },
  {
   "cell_type": "code",
   "execution_count": null,
   "id": "77a598f6",
   "metadata": {},
   "outputs": [],
   "source": [
    "# Try your own project estimations here!\n",
    "# Format: [Size, Complexity, Experience]\n",
    "\n",
    "# Example 1: Small, simple project with experienced team\n",
    "test_project_1 = [25, 1, 7]\n",
    "estimate_1, nearest_1 = estimate_new_project(test_project_1, k=2)\n",
    "print(f\"Project 1 - Small & Simple with Experienced Team:\")\n",
    "print(f\"Estimated Duration: {round(estimate_1, 1)} weeks\")\n",
    "print(\"Closest matches:\")\n",
    "print(nearest_1)\n",
    "print()\n",
    "\n",
    "# Example 2: Large, complex project with new team\n",
    "test_project_2 = [120, 5, 2]\n",
    "estimate_2, nearest_2 = estimate_new_project(test_project_2, k=2)\n",
    "print(f\"Project 2 - Large & Complex with New Team:\")\n",
    "print(f\"Estimated Duration: {round(estimate_2, 1)} weeks\")\n",
    "print(\"Closest matches:\")\n",
    "print(nearest_2)\n",
    "print()\n",
    "\n",
    "# Your turn! Modify the values below:\n",
    "your_project = [75, 3, 4]  # Change these values!\n",
    "your_estimate, your_nearest = estimate_new_project(your_project, k=2)\n",
    "print(f\"Your Project Estimate:\")\n",
    "print(f\"Size: {your_project[0]}, Complexity: {your_project[1]}, Experience: {your_project[2]} years\")\n",
    "print(f\"Estimated Duration: {round(your_estimate, 1)} weeks\")\n",
    "print(\"Closest matches:\")\n",
    "print(your_nearest)"
   ]
  },
  {
   "cell_type": "markdown",
   "id": "61e5ead3",
   "metadata": {},
   "source": [
    "## Step 6: Advanced Exploration (Optional)\n",
    "\n",
    "For those wanting to dig deeper, here are some advanced exercises:\n",
    "\n",
    "### A. Sensitivity Analysis\n",
    "Try the same project with different `k` values to see how the number of analogies affects the estimate:\n",
    "```python\n",
    "# Compare k=1 vs k=2 vs k=3 for the same project\n",
    "project = [60, 3, 4]\n",
    "for k_val in [1, 2, 3, 4, 5]:\n",
    "    est, _ = estimate_new_project(project, k=k_val)\n",
    "    print(f\"k={k_val}: {round(est, 1)} weeks\")\n",
    "```\n",
    "\n",
    "### B. Add Your Own Historical Data\n",
    "What if you had more projects in your dataset? Try adding a few more fictional projects to `data` and see how it affects estimates:\n",
    "```python\n",
    "# Example: Add more projects to make estimates more robust\n",
    "# new_projects = [\n",
    "#     {\"Project\": \"Zeta\", \"Size\": 45, \"Complexity\": 2, \"Experience\": 4, \"Duration\": 11},\n",
    "#     {\"Project\": \"Eta\", \"Size\": 90, \"Complexity\": 4, \"Experience\": 6, \"Duration\": 17}\n",
    "# ]\n",
    "```\n",
    "\n",
    "### C. Feature Importance\n",
    "Which attributes matter most? Try estimating projects where you vary only one attribute at a time to see its impact."
   ]
  }
 ],
 "metadata": {
  "kernelspec": {
   "display_name": "Python 3",
   "language": "python",
   "name": "python3"
  },
  "language_info": {
   "codemirror_mode": {
    "name": "ipython",
    "version": 3
   },
   "file_extension": ".py",
   "mimetype": "text/x-python",
   "name": "python",
   "nbconvert_exporter": "python",
   "pygments_lexer": "ipython3",
   "version": "3.11.9"
  }
 },
 "nbformat": 4,
 "nbformat_minor": 5
}
